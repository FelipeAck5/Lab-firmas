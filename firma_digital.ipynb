{
  "nbformat": 4,
  "nbformat_minor": 0,
  "metadata": {
    "colab": {
      "provenance": []
    },
    "kernelspec": {
      "name": "python3",
      "display_name": "Python 3"
    },
    "language_info": {
      "name": "python"
    }
  },
  "cells": [
    {
      "cell_type": "code",
      "execution_count": null,
      "metadata": {
        "colab": {
          "base_uri": "https://localhost:8080/"
        },
        "id": "VR0xlFdv_NuL",
        "outputId": "69f2257e-0bfe-4dba-d55f-12de3a04b6b7"
      },
      "outputs": [
        {
          "output_type": "stream",
          "name": "stdout",
          "text": [
            "Requirement already satisfied: cryptography in /usr/local/lib/python3.10/dist-packages (43.0.3)\n",
            "Requirement already satisfied: cffi>=1.12 in /usr/local/lib/python3.10/dist-packages (from cryptography) (1.17.1)\n",
            "Requirement already satisfied: pycparser in /usr/local/lib/python3.10/dist-packages (from cffi>=1.12->cryptography) (2.22)\n"
          ]
        }
      ],
      "source": [
        "!pip install cryptography"
      ]
    },
    {
      "cell_type": "code",
      "source": [
        "import zipfile\n",
        "import os\n",
        "from cryptography.hazmat.primitives import hashes\n",
        "from cryptography.hazmat.primitives.asymmetric import rsa, padding\n",
        "from cryptography.hazmat.primitives import serialization\n",
        "\n",
        "def generar_claves():\n",
        "    private_key = rsa.generate_private_key(\n",
        "        public_exponent=65537,\n",
        "        key_size=2048\n",
        "    )\n",
        "    public_key = private_key.public_key()\n",
        "    return private_key, public_key\n",
        "\n",
        "def guardar_llaves(private_key, public_key):\n",
        "    with open(\"private_key.pem\", \"wb\") as priv_file:\n",
        "        priv_file.write(\n",
        "            private_key.private_bytes(\n",
        "                encoding=serialization.Encoding.PEM,\n",
        "                format=serialization.PrivateFormat.PKCS8,\n",
        "                encryption_algorithm=serialization.NoEncryption()\n",
        "            )\n",
        "        )\n",
        "\n",
        "    with open(\"public_key.pem\", \"wb\") as pub_file:\n",
        "        pub_file.write(\n",
        "            public_key.public_bytes(\n",
        "                encoding=serialization.Encoding.PEM,\n",
        "                format=serialization.PublicFormat.SubjectPublicKeyInfo\n",
        "            )\n",
        "        )\n",
        "\n",
        "def frimar(private_key, message): #usando la clave privada\n",
        "    signature = private_key.sign(\n",
        "        message,\n",
        "        padding.PSS(\n",
        "            mgf=padding.MGF1(hashes.SHA256()),\n",
        "            salt_length=padding.PSS.MAX_LENGTH\n",
        "        ),\n",
        "        hashes.SHA256()\n",
        "    )\n",
        "    return signature\n",
        "\n",
        "def verificar_firma(public_key, message, signature): #usando la clave publica\n",
        "\n",
        "    try:\n",
        "        public_key.verify(\n",
        "            signature,\n",
        "            message,\n",
        "            padding.PSS(\n",
        "                mgf=padding.MGF1(hashes.SHA256()),\n",
        "                salt_length=padding.PSS.MAX_LENGTH\n",
        "            ),\n",
        "            hashes.SHA256()\n",
        "        )\n",
        "        return True\n",
        "    except Exception as e:\n",
        "        print(f\"Error al verificar la firma: {e}\")\n",
        "        return False\n",
        "\n",
        "def verificar_firma_zip(zip_file_path, public_key_path):\n",
        "    try:\n",
        "        with zipfile.ZipFile(zip_file_path, 'r') as zipf:\n",
        "            message = zipf.read('message.txt')\n",
        "            signature = zipf.read('signature.bin')\n",
        "\n",
        "            # Cargar la clave pública desde el archivo\n",
        "            with open(public_key_path, \"rb\") as pub_file:\n",
        "                public_key = serialization.load_pem_public_key(pub_file.read())\n",
        "\n",
        "            # Verificar la firma\n",
        "            return verificar_firma(public_key, message, signature)\n",
        "    except (zipfile.BadZipfile, FileNotFoundError, KeyError) as e:\n",
        "        print(f\"Error al procesar el archivo ZIP: {e}\")\n",
        "        return False"
      ],
      "metadata": {
        "id": "AZLxEQ49UJU6"
      },
      "execution_count": null,
      "outputs": []
    },
    {
      "cell_type": "code",
      "source": [
        "# Generar claves\n",
        "private_key, public_key = generate_keys()\n",
        "\n",
        "# Guardar claves en archivos\n",
        "guardar_llaves(private_key, public_key)\n",
        "\n",
        "# Crear un archivo ZIP\n",
        "with zipfile.ZipFile(\"signed_data.zip\", \"w\") as zipf:\n",
        "    zipf.writestr(\"message.txt\", b\"Hola, mundo!\")\n",
        "    zipf.writestr(\"signature.bin\", frimar(private_key, b\"Hola, mundo!\"))\n",
        "\n",
        "# Verificar la firma del archivo ZIP\n",
        "is_valid = verificar_firma_zip(\"signed_data.zip\", \"public_key.pem\")\n",
        "if is_valid:\n",
        "    print(\"La firma del archivo ZIP es válida.\")\n",
        "else:\n",
        "    print(\"La firma del archivo ZIP es inválida.\")"
      ],
      "metadata": {
        "id": "-OUAW5iWYTVj",
        "outputId": "331c8155-9632-4812-e60a-15e7b62dc04a",
        "colab": {
          "base_uri": "https://localhost:8080/"
        }
      },
      "execution_count": null,
      "outputs": [
        {
          "output_type": "stream",
          "name": "stdout",
          "text": [
            "La firma del archivo ZIP es válida.\n"
          ]
        }
      ]
    }
  ]
}